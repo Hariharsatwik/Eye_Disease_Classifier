{
  "metadata": {
    "kernelspec": {
      "language": "python",
      "display_name": "Python 3",
      "name": "python3"
    },
    "language_info": {
      "name": "python",
      "version": "3.10.13",
      "mimetype": "text/x-python",
      "codemirror_mode": {
        "name": "ipython",
        "version": 3
      },
      "pygments_lexer": "ipython3",
      "nbconvert_exporter": "python",
      "file_extension": ".py"
    },
    "kaggle": {
      "accelerator": "gpu",
      "dataSources": [
        {
          "sourceId": 4130910,
          "sourceType": "datasetVersion",
          "datasetId": 2440665
        }
      ],
      "dockerImageVersionId": 30648,
      "isInternetEnabled": true,
      "language": "python",
      "sourceType": "notebook",
      "isGpuEnabled": true
    },
    "colab": {
      "name": "Eye diseases classification",
      "provenance": []
    }
  },
  "nbformat_minor": 0,
  "nbformat": 4,
  "cells": [
    {
      "source": [
        "\n",
        "# IMPORTANT: RUN THIS CELL IN ORDER TO IMPORT YOUR KAGGLE DATA SOURCES\n",
        "# TO THE CORRECT LOCATION (/kaggle/input) IN YOUR NOTEBOOK,\n",
        "# THEN FEEL FREE TO DELETE THIS CELL.\n",
        "# NOTE: THIS NOTEBOOK ENVIRONMENT DIFFERS FROM KAGGLE'S PYTHON\n",
        "# ENVIRONMENT SO THERE MAY BE MISSING LIBRARIES USED BY YOUR\n",
        "# NOTEBOOK.\n",
        "\n",
        "import os\n",
        "import sys\n",
        "from tempfile import NamedTemporaryFile\n",
        "from urllib.request import urlopen\n",
        "from urllib.parse import unquote, urlparse\n",
        "from urllib.error import HTTPError\n",
        "from zipfile import ZipFile\n",
        "import tarfile\n",
        "import shutil\n",
        "\n",
        "CHUNK_SIZE = 40960\n",
        "DATA_SOURCE_MAPPING = 'eye-diseases-classification:https%3A%2F%2Fstorage.googleapis.com%2Fkaggle-data-sets%2F2440665%2F4130910%2Fbundle%2Farchive.zip%3FX-Goog-Algorithm%3DGOOG4-RSA-SHA256%26X-Goog-Credential%3Dgcp-kaggle-com%2540kaggle-161607.iam.gserviceaccount.com%252F20240603%252Fauto%252Fstorage%252Fgoog4_request%26X-Goog-Date%3D20240603T033024Z%26X-Goog-Expires%3D259200%26X-Goog-SignedHeaders%3Dhost%26X-Goog-Signature%3D5c8fc7e0aed5c81bef1638422bf2f60c3963faa1eac57b59e5960525d91bc8990b5abebe73b34f65a5a275ae45c278e95f45b6fc7886632f9f2f780a5e244f355f93c4fb20391077829412f8737fc35fd337bfedbfab03e5cfad3a7a2ef20cf61cd06ba5aa0506c8c03d190bb5970787b20712fbcd7907c008583663f595f5e1552b07d0a71d139c8072c45c6a530662cd98a46d22de50b2624a8cc5102ae54a13b1cbc2262e18e2cf37ea2dd7b06d43e476eda97980397138ba0b4ce5bea48de03b5b44013a0dd5bdb8983bccfa7284172ebef7afa11dbad130b2f008eb99cfddddc7fdd7620d3f8f4e866c867c2776c0ea4781390a9892c300b858e4ea00f9'\n",
        "\n",
        "KAGGLE_INPUT_PATH='/kaggle/input'\n",
        "KAGGLE_WORKING_PATH='/kaggle/working'\n",
        "KAGGLE_SYMLINK='kaggle'\n",
        "\n",
        "!umount /kaggle/input/ 2> /dev/null\n",
        "shutil.rmtree('/kaggle/input', ignore_errors=True)\n",
        "os.makedirs(KAGGLE_INPUT_PATH, 0o777, exist_ok=True)\n",
        "os.makedirs(KAGGLE_WORKING_PATH, 0o777, exist_ok=True)\n",
        "\n",
        "try:\n",
        "  os.symlink(KAGGLE_INPUT_PATH, os.path.join(\"..\", 'input'), target_is_directory=True)\n",
        "except FileExistsError:\n",
        "  pass\n",
        "try:\n",
        "  os.symlink(KAGGLE_WORKING_PATH, os.path.join(\"..\", 'working'), target_is_directory=True)\n",
        "except FileExistsError:\n",
        "  pass\n",
        "\n",
        "for data_source_mapping in DATA_SOURCE_MAPPING.split(','):\n",
        "    directory, download_url_encoded = data_source_mapping.split(':')\n",
        "    download_url = unquote(download_url_encoded)\n",
        "    filename = urlparse(download_url).path\n",
        "    destination_path = os.path.join(KAGGLE_INPUT_PATH, directory)\n",
        "    try:\n",
        "        with urlopen(download_url) as fileres, NamedTemporaryFile() as tfile:\n",
        "            total_length = fileres.headers['content-length']\n",
        "            print(f'Downloading {directory}, {total_length} bytes compressed')\n",
        "            dl = 0\n",
        "            data = fileres.read(CHUNK_SIZE)\n",
        "            while len(data) > 0:\n",
        "                dl += len(data)\n",
        "                tfile.write(data)\n",
        "                done = int(50 * dl / int(total_length))\n",
        "                sys.stdout.write(f\"\\r[{'=' * done}{' ' * (50-done)}] {dl} bytes downloaded\")\n",
        "                sys.stdout.flush()\n",
        "                data = fileres.read(CHUNK_SIZE)\n",
        "            if filename.endswith('.zip'):\n",
        "              with ZipFile(tfile) as zfile:\n",
        "                zfile.extractall(destination_path)\n",
        "            else:\n",
        "              with tarfile.open(tfile.name) as tarfile:\n",
        "                tarfile.extractall(destination_path)\n",
        "            print(f'\\nDownloaded and uncompressed: {directory}')\n",
        "    except HTTPError as e:\n",
        "        print(f'Failed to load (likely expired) {download_url} to path {destination_path}')\n",
        "        continue\n",
        "    except OSError as e:\n",
        "        print(f'Failed to load {download_url} to path {destination_path}')\n",
        "        continue\n",
        "\n",
        "print('Data source import complete.')\n"
      ],
      "metadata": {
        "id": "TGEe_KUDJgR9"
      },
      "cell_type": "code",
      "outputs": [],
      "execution_count": null
    },
    {
      "cell_type": "markdown",
      "source": [
        "## Eye diseases"
      ],
      "metadata": {
        "id": "sZmkhfcRJgR_"
      }
    },
    {
      "cell_type": "markdown",
      "source": [
        "Diabetes is a condition that carries an increased risk of developing eye complications. Diabetic eye disease includes complications such as diabetic retinopathy, cataracts and glaucoma.\n",
        "\n",
        "Diabetes is the leading cause of blindness in working-age adults. People with type 1 and type 2 diabetes are at risk. It’s possible to be unaware that you have severe diabetic eye disease and suddenly go blind. Fortunately, most cases of blindness can be prevented with regular eye examinations and proper care.\n",
        "\n",
        "- The dataset consists of Normal, Diabetic Retinopathy, Cataract and Glaucoma retinal images where each class have approximately 1000 images. These images are collected from various sorces like IDRiD, Oculur recognition, HRF etc.\n",
        "\n",
        "- Diabetic retinopathy: The persistently high blood sugar levels that occur with diabetes can damage the retina’s small blood vessels (capillaries), which deliver oxygen and nutrients. Diabetic retinopathy affects up to a third of people with diabetes over the age of 502.\n",
        "\n",
        "- Cataracts: A cataract is a clouding of the lens in the eye. Left untreated, cataracts can eventually lead to blindness. People with diabetes are more likely to develop cataracts at an earlier age and suffer visual impairment faster than those without the condition.1,3\n",
        "\n",
        "- Glaucoma: This is a group of conditions that can damage the optic nerve. The optic nerve transmits signals from the retina to the brain for processing. Glaucoma is often (but not always) a result of increased pressure inside the eye. The risk of glaucoma in people with diabetes is significantly higher than that of the general population.1,4 The two main types are open-angle glaucoma (also called ‘the sneak thief of sight’) and angle-closure glaucoma (this comes on suddenly and is a medical emergency)."
      ],
      "metadata": {
        "id": "QGvxuu11JgSB"
      }
    },
    {
      "cell_type": "markdown",
      "source": [
        "## Import Libraries"
      ],
      "metadata": {
        "id": "P3jarz56JgSB"
      }
    },
    {
      "cell_type": "code",
      "source": [
        "# import system libs\n",
        "import os\n",
        "import time\n",
        "# import data handling tools\n",
        "import cv2\n",
        "import numpy as np\n",
        "import pandas as pd\n",
        "from PIL import Image\n",
        "import matplotlib.pyplot as plt\n",
        "from sklearn.model_selection import train_test_split\n",
        "from sklearn.metrics import confusion_matrix, classification_report, f1_score\n",
        "# import Deep learning Libraries\n",
        "import tensorflow as tf\n",
        "from tensorflow import keras\n",
        "from tensorflow.keras.models import Model\n",
        "from tensorflow.keras.metrics import categorical_crossentropy\n",
        "from tensorflow.keras.preprocessing.image import ImageDataGenerator\n",
        "from tensorflow.keras.layers import Flatten, Dense, Activation, GlobalAveragePooling2D\n",
        "# Ignore Warnings\n",
        "import warnings\n",
        "warnings.filterwarnings(\"ignore\")"
      ],
      "metadata": {
        "execution": {
          "iopub.status.busy": "2024-02-15T13:33:46.288741Z",
          "iopub.execute_input": "2024-02-15T13:33:46.289613Z",
          "iopub.status.idle": "2024-02-15T13:34:00.71917Z",
          "shell.execute_reply.started": "2024-02-15T13:33:46.289578Z",
          "shell.execute_reply": "2024-02-15T13:34:00.718351Z"
        },
        "trusted": true,
        "id": "kkqEIbRdJgSC"
      },
      "execution_count": null,
      "outputs": []
    },
    {
      "cell_type": "markdown",
      "source": [
        "## Class for Loading and Splitting Datasets"
      ],
      "metadata": {
        "id": "oqf3sMM5JgSC"
      }
    },
    {
      "cell_type": "code",
      "source": [
        "class EyeDiseaseDataset:\n",
        "    def __init__(self, dataDir):\n",
        "        self.data_dir = dataDir\n",
        "\n",
        "    def dataPaths(self):\n",
        "        filepaths = []\n",
        "        labels = []\n",
        "        folds = os.listdir(self.data_dir)\n",
        "        for fold in folds:\n",
        "            foldPath = os.path.join(self.data_dir, fold)\n",
        "            filelist = os.listdir(foldPath)\n",
        "            for file in filelist:\n",
        "                fpath = os.path.join(foldPath, file)\n",
        "                filepaths.append(fpath)\n",
        "                labels.append(fold)\n",
        "        return filepaths, labels\n",
        "\n",
        "    def dataFrame(self, files, labels):\n",
        "\n",
        "        Fseries = pd.Series(files, name='filepaths')\n",
        "        Lseries = pd.Series(labels, name='labels')\n",
        "        return pd.concat([Fseries, Lseries], axis=1)\n",
        "\n",
        "    def split_(self):\n",
        "        files, labels = self.dataPaths()\n",
        "        df = self.dataFrame(files, labels)\n",
        "        strat = df['labels']\n",
        "        trainData, dummyData = train_test_split(df, train_size=0.8, shuffle=True, random_state=42, stratify=strat)\n",
        "        strat = dummyData['labels']\n",
        "        validData, testData = train_test_split(dummyData, train_size=0.5, shuffle=True, random_state=42, stratify=strat)\n",
        "        return trainData, validData, testData"
      ],
      "metadata": {
        "execution": {
          "iopub.status.busy": "2024-02-15T13:34:00.720765Z",
          "iopub.execute_input": "2024-02-15T13:34:00.72128Z",
          "iopub.status.idle": "2024-02-15T13:34:00.730846Z",
          "shell.execute_reply.started": "2024-02-15T13:34:00.721254Z",
          "shell.execute_reply": "2024-02-15T13:34:00.729835Z"
        },
        "trusted": true,
        "id": "fM832YfgJgSC"
      },
      "execution_count": null,
      "outputs": []
    },
    {
      "cell_type": "code",
      "source": [
        "dataDir='/kaggle/input/eye-diseases-classification/dataset'"
      ],
      "metadata": {
        "execution": {
          "iopub.status.busy": "2024-02-15T13:34:00.732118Z",
          "iopub.execute_input": "2024-02-15T13:34:00.732454Z",
          "iopub.status.idle": "2024-02-15T13:34:00.771897Z",
          "shell.execute_reply.started": "2024-02-15T13:34:00.732422Z",
          "shell.execute_reply": "2024-02-15T13:34:00.771077Z"
        },
        "trusted": true,
        "id": "RYS3gA_wJgSD"
      },
      "execution_count": null,
      "outputs": []
    },
    {
      "cell_type": "code",
      "source": [
        "dataSplit = EyeDiseaseDataset(dataDir)\n",
        "train_data, valid_data, test_data = dataSplit.split_()"
      ],
      "metadata": {
        "execution": {
          "iopub.status.busy": "2024-02-15T13:34:00.773844Z",
          "iopub.execute_input": "2024-02-15T13:34:00.774745Z",
          "iopub.status.idle": "2024-02-15T13:34:01.361215Z",
          "shell.execute_reply.started": "2024-02-15T13:34:00.774707Z",
          "shell.execute_reply": "2024-02-15T13:34:01.360459Z"
        },
        "trusted": true,
        "id": "PAAMQu8XJgSE"
      },
      "execution_count": null,
      "outputs": []
    },
    {
      "cell_type": "code",
      "source": [
        "def display_random_image(df):\n",
        "    random_row = df.sample(1).iloc[0]\n",
        "    filepath = random_row['filepaths']\n",
        "    label = random_row['labels']\n",
        "\n",
        "    img = Image.open(filepath)\n",
        "    plt.imshow(img)\n",
        "    plt.title(f'Label:{label}')\n",
        "    plt.axis('off')\n",
        "    plt.show()\n",
        "\n",
        "display_random_image(train_data)"
      ],
      "metadata": {
        "execution": {
          "iopub.status.busy": "2024-02-15T13:34:01.362183Z",
          "iopub.execute_input": "2024-02-15T13:34:01.362425Z",
          "iopub.status.idle": "2024-02-15T13:34:01.547133Z",
          "shell.execute_reply.started": "2024-02-15T13:34:01.362403Z",
          "shell.execute_reply": "2024-02-15T13:34:01.546197Z"
        },
        "trusted": true,
        "id": "PdrtBRLOJgSE"
      },
      "execution_count": null,
      "outputs": []
    },
    {
      "cell_type": "markdown",
      "source": [
        "## Function for Data Augmentation"
      ],
      "metadata": {
        "id": "kYwGszTKJgSF"
      }
    },
    {
      "cell_type": "code",
      "source": [
        "def augment_data( train_df, valid_df, test_df, batch_size=16):\n",
        "\n",
        "    img_size = (256,256)\n",
        "    channels = 3\n",
        "    color = 'rgb'\n",
        "\n",
        "\n",
        "    train_datagen = tf.keras.preprocessing.image.ImageDataGenerator(\n",
        "              rotation_range=30,\n",
        "              horizontal_flip=True,\n",
        "              vertical_flip=True,\n",
        "              brightness_range=[0.5, 1.5])\n",
        "\n",
        "    valid_test_datagen = tf.keras.preprocessing.image.ImageDataGenerator()\n",
        "\n",
        "    train_generator = train_datagen.flow_from_dataframe(\n",
        "              train_df,\n",
        "              x_col='filepaths',\n",
        "              y_col='labels',\n",
        "              target_size=img_size,\n",
        "              color_mode=color,\n",
        "              batch_size=batch_size,\n",
        "              shuffle=True,\n",
        "              class_mode='categorical'\n",
        "          )\n",
        "\n",
        "    print(\"Shape of augmented training images:\", train_generator.image_shape)\n",
        "\n",
        "    valid_generator = valid_test_datagen.flow_from_dataframe(\n",
        "              valid_df,\n",
        "              x_col='filepaths',\n",
        "              y_col='labels',\n",
        "              target_size=img_size,\n",
        "              color_mode=color,\n",
        "              batch_size=batch_size,\n",
        "              shuffle=True,\n",
        "              class_mode='categorical'\n",
        "          )\n",
        "\n",
        "    print(\"Shape of validation images:\", valid_generator.image_shape)\n",
        "\n",
        "    test_generator = valid_test_datagen.flow_from_dataframe(\n",
        "              test_df,\n",
        "              x_col='filepaths',\n",
        "              y_col='labels',\n",
        "              target_size=img_size,\n",
        "              color_mode=color,\n",
        "              batch_size=batch_size,\n",
        "              shuffle=False,\n",
        "              class_mode='categorical'\n",
        "          )\n",
        "\n",
        "    print(\"Shape of test images:\", test_generator.image_shape)\n",
        "\n",
        "    return train_generator, valid_generator, test_generator"
      ],
      "metadata": {
        "execution": {
          "iopub.status.busy": "2024-02-15T13:34:01.548334Z",
          "iopub.execute_input": "2024-02-15T13:34:01.548627Z",
          "iopub.status.idle": "2024-02-15T13:34:01.557822Z",
          "shell.execute_reply.started": "2024-02-15T13:34:01.548602Z",
          "shell.execute_reply": "2024-02-15T13:34:01.556847Z"
        },
        "trusted": true,
        "id": "x-TwSXVJJgSF"
      },
      "execution_count": null,
      "outputs": []
    },
    {
      "cell_type": "code",
      "source": [
        "train_augmented, valid_augmented, test_augmented = augment_data(train_data, valid_data, test_data)"
      ],
      "metadata": {
        "execution": {
          "iopub.status.busy": "2024-02-15T13:34:01.559043Z",
          "iopub.execute_input": "2024-02-15T13:34:01.559316Z",
          "iopub.status.idle": "2024-02-15T13:34:02.665956Z",
          "shell.execute_reply.started": "2024-02-15T13:34:01.559293Z",
          "shell.execute_reply": "2024-02-15T13:34:02.66507Z"
        },
        "trusted": true,
        "id": "K5_VpE8MJgSF"
      },
      "execution_count": null,
      "outputs": []
    },
    {
      "cell_type": "code",
      "source": [
        "def show_images(gen):\n",
        "\n",
        "    g_dict = gen.class_indices        # defines dictionary {'class': index}\n",
        "    classes = list(g_dict.keys())     # defines list of dictionary's kays (classes), classes names : string\n",
        "    images, labels = next(gen)        # get a batch size samples from the generator\n",
        "    length = len(labels)\n",
        "    sample = min(length, 20)\n",
        "    plt.figure(figsize= (15, 17))\n",
        "    for i in range(sample):\n",
        "        plt.subplot(5, 5, i + 1)\n",
        "        image = images[i] / 255\n",
        "        plt.imshow(image)\n",
        "        index = np.argmax(labels[i])\n",
        "        class_name = classes[index]\n",
        "        plt.title(class_name, color= 'blue', fontsize= 7 )\n",
        "        plt.axis('off')\n",
        "    plt.show()\n",
        "show_images(train_augmented)"
      ],
      "metadata": {
        "execution": {
          "iopub.status.busy": "2024-02-15T13:34:02.667109Z",
          "iopub.execute_input": "2024-02-15T13:34:02.667403Z",
          "iopub.status.idle": "2024-02-15T13:34:04.661671Z",
          "shell.execute_reply.started": "2024-02-15T13:34:02.667377Z",
          "shell.execute_reply": "2024-02-15T13:34:04.660684Z"
        },
        "trusted": true,
        "id": "NOOCwWgyJgSF"
      },
      "execution_count": null,
      "outputs": []
    },
    {
      "cell_type": "markdown",
      "source": [
        "## Download and compile the model"
      ],
      "metadata": {
        "id": "mJ0WV4I1JgSF"
      }
    },
    {
      "cell_type": "code",
      "source": [
        "from tensorflow.keras.applications import EfficientNetB3\n",
        "from tensorflow.keras import regularizers\n",
        "\n",
        "classes = len(list(train_augmented.class_indices.keys()))\n",
        "\n",
        "base_model = EfficientNetB3(weights='imagenet', include_top=False, input_shape=(256, 256, 3))\n",
        "\n",
        "for layer in base_model.layers:\n",
        "    layer.trainable = False\n",
        "x = base_model.output\n",
        "x = GlobalAveragePooling2D()(x)\n",
        "x = Dense(512, activation='relu' , kernel_regularizer = regularizers.l2(0.01))(x)\n",
        "\n",
        "predictions = Dense(classes, activation='softmax', kernel_regularizer = regularizers.l2(0.01))(x)\n",
        "\n",
        "model = Model(inputs=base_model.input, outputs=predictions)\n",
        "\n",
        "optimizer = tf.keras.optimizers.Adam(learning_rate=0.001)\n",
        "\n",
        "model.compile(optimizer=optimizer, loss='categorical_crossentropy', metrics=['accuracy'])"
      ],
      "metadata": {
        "execution": {
          "iopub.status.busy": "2024-02-15T14:11:40.97861Z",
          "iopub.execute_input": "2024-02-15T14:11:40.978979Z",
          "iopub.status.idle": "2024-02-15T14:11:44.249089Z",
          "shell.execute_reply.started": "2024-02-15T14:11:40.978952Z",
          "shell.execute_reply": "2024-02-15T14:11:44.248046Z"
        },
        "trusted": true,
        "id": "3ilMCQ3yJgSG"
      },
      "execution_count": null,
      "outputs": []
    },
    {
      "cell_type": "markdown",
      "source": [
        "## Fit the model"
      ],
      "metadata": {
        "id": "iDaXqYPrJgSG"
      }
    },
    {
      "cell_type": "code",
      "source": [
        "history = model.fit(\n",
        "    train_augmented,\n",
        "    epochs=15,\n",
        "    validation_data=valid_augmented,\n",
        "    )"
      ],
      "metadata": {
        "execution": {
          "iopub.status.busy": "2024-02-15T14:11:48.965879Z",
          "iopub.execute_input": "2024-02-15T14:11:48.966236Z",
          "iopub.status.idle": "2024-02-15T14:29:55.564307Z",
          "shell.execute_reply.started": "2024-02-15T14:11:48.966205Z",
          "shell.execute_reply": "2024-02-15T14:29:55.563532Z"
        },
        "trusted": true,
        "id": "UdIViu5SJgSG"
      },
      "execution_count": null,
      "outputs": []
    },
    {
      "cell_type": "markdown",
      "source": [
        "## Plot the Accuracy and Loss"
      ],
      "metadata": {
        "id": "4gfbQPfVJgSG"
      }
    },
    {
      "cell_type": "code",
      "source": [
        "train_accuracy = history.history['accuracy']\n",
        "val_accuracy = history.history['val_accuracy']\n",
        "print(\"Training Accuracy:\", train_accuracy[-1])\n",
        "print(\"Validation Accuracy:\", val_accuracy[-1])\n",
        "plt.plot(history.history['loss'], label='Training Loss')\n",
        "plt.plot(history.history['val_loss'], label='Validation Loss')\n",
        "plt.xlabel('Epoch')\n",
        "plt.ylabel('Loss')\n",
        "plt.legend()\n",
        "plt.show()\n",
        "plt.plot(history.history['accuracy'], label='Training Accuracy')\n",
        "plt.plot(history.history['val_accuracy'], label='Validation Accuracy')\n",
        "plt.xlabel('Epoch')\n",
        "plt.ylabel('Accuracy')\n",
        "plt.legend()\n",
        "plt.show()"
      ],
      "metadata": {
        "execution": {
          "iopub.status.busy": "2024-02-15T14:30:13.959711Z",
          "iopub.execute_input": "2024-02-15T14:30:13.960074Z",
          "iopub.status.idle": "2024-02-15T14:30:14.348109Z",
          "shell.execute_reply.started": "2024-02-15T14:30:13.960043Z",
          "shell.execute_reply": "2024-02-15T14:30:14.347294Z"
        },
        "trusted": true,
        "id": "0Vr2osTzJgSG"
      },
      "execution_count": null,
      "outputs": []
    },
    {
      "cell_type": "markdown",
      "source": [
        "## Display the Actual and Predicted images"
      ],
      "metadata": {
        "id": "fS-rAJPxJgSG"
      }
    },
    {
      "cell_type": "code",
      "source": [
        "def plot_actual_vs_predicted(model, test_data, num_samples=3):\n",
        "\n",
        "    # Get a batch of test data\n",
        "    test_images, test_labels = next(iter(test_data))\n",
        "\n",
        "    predictions = model.predict(test_images)\n",
        "\n",
        "    class_labels = list(train_augmented.class_indices.keys())\n",
        "\n",
        "    sample_indices = np.random.choice(range(len(test_images)), num_samples, replace=False)\n",
        "      # Plot the images with actual and predicted labels\n",
        "    for i in sample_indices:\n",
        "        actual_label = class_labels[np.argmax(test_labels[i])]\n",
        "        predicted_label = class_labels[np.argmax(predictions[i])]\n",
        "        plt.figure(figsize=(8, 4))\n",
        "        # Actual Image\n",
        "        plt.subplot(1, 2, 1)\n",
        "        plt.imshow(test_images[i].astype(np.uint8))\n",
        "        plt.title(f'Actual: {actual_label}')\n",
        "        plt.axis('off')\n",
        "        # Predicted Image\n",
        "        plt.subplot(1, 2, 2)\n",
        "        plt.imshow(test_images[i].astype(np.uint8))\n",
        "        plt.title(f'Predicted: {predicted_label}')\n",
        "        plt.axis('off')\n",
        "        plt.show()\n",
        "plot_actual_vs_predicted(model, test_augmented)"
      ],
      "metadata": {
        "execution": {
          "iopub.status.busy": "2024-02-15T14:30:36.607556Z",
          "iopub.execute_input": "2024-02-15T14:30:36.608379Z",
          "iopub.status.idle": "2024-02-15T14:30:40.030396Z",
          "shell.execute_reply.started": "2024-02-15T14:30:36.608336Z",
          "shell.execute_reply": "2024-02-15T14:30:40.029483Z"
        },
        "trusted": true,
        "id": "HvY7osg_JgSG"
      },
      "execution_count": null,
      "outputs": []
    }
  ]
}